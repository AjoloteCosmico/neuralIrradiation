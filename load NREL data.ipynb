{
 "cells": [
  {
   "cell_type": "code",
   "execution_count": 1,
   "metadata": {},
   "outputs": [],
   "source": [
    "import pandas as pd"
   ]
  },
  {
   "cell_type": "code",
   "execution_count": 30,
   "metadata": {},
   "outputs": [],
   "source": [
    "file_name='461980_22.53_-105.90_2004.csv'"
   ]
  },
  {
   "cell_type": "code",
   "execution_count": 31,
   "metadata": {},
   "outputs": [],
   "source": [
    "meta=pd.read_csv('NREL data/'+file_name,nrows=1)"
   ]
  },
  {
   "cell_type": "code",
   "execution_count": 32,
   "metadata": {},
   "outputs": [
    {
     "data": {
      "text/html": [
       "<div>\n",
       "<style scoped>\n",
       "    .dataframe tbody tr th:only-of-type {\n",
       "        vertical-align: middle;\n",
       "    }\n",
       "\n",
       "    .dataframe tbody tr th {\n",
       "        vertical-align: top;\n",
       "    }\n",
       "\n",
       "    .dataframe thead th {\n",
       "        text-align: right;\n",
       "    }\n",
       "</style>\n",
       "<table border=\"1\" class=\"dataframe\">\n",
       "  <thead>\n",
       "    <tr style=\"text-align: right;\">\n",
       "      <th></th>\n",
       "      <th>Source</th>\n",
       "      <th>Location ID</th>\n",
       "      <th>City</th>\n",
       "      <th>State</th>\n",
       "      <th>Country</th>\n",
       "      <th>Latitude</th>\n",
       "      <th>Longitude</th>\n",
       "      <th>Time Zone</th>\n",
       "      <th>Elevation</th>\n",
       "      <th>Local Time Zone</th>\n",
       "      <th>...</th>\n",
       "      <th>Cloud Type 11</th>\n",
       "      <th>Cloud Type 12</th>\n",
       "      <th>Fill Flag 0</th>\n",
       "      <th>Fill Flag 1</th>\n",
       "      <th>Fill Flag 2</th>\n",
       "      <th>Fill Flag 3</th>\n",
       "      <th>Fill Flag 4</th>\n",
       "      <th>Fill Flag 5</th>\n",
       "      <th>Surface Albedo Units</th>\n",
       "      <th>Version</th>\n",
       "    </tr>\n",
       "  </thead>\n",
       "  <tbody>\n",
       "    <tr>\n",
       "      <th>0</th>\n",
       "      <td>NSRDB</td>\n",
       "      <td>461980</td>\n",
       "      <td>-</td>\n",
       "      <td>-</td>\n",
       "      <td>-</td>\n",
       "      <td>22.53</td>\n",
       "      <td>-105.9</td>\n",
       "      <td>0</td>\n",
       "      <td>0</td>\n",
       "      <td>-7</td>\n",
       "      <td>...</td>\n",
       "      <td>Dust</td>\n",
       "      <td>Smoke</td>\n",
       "      <td>NaN</td>\n",
       "      <td>Missing Image</td>\n",
       "      <td>Low Irradiance</td>\n",
       "      <td>Exceeds Clearsky</td>\n",
       "      <td>Missing CLoud Properties</td>\n",
       "      <td>Rayleigh Violation</td>\n",
       "      <td>NaN</td>\n",
       "      <td>4.0.1</td>\n",
       "    </tr>\n",
       "  </tbody>\n",
       "</table>\n",
       "<p>1 rows × 46 columns</p>\n",
       "</div>"
      ],
      "text/plain": [
       "  Source  Location ID City State Country  Latitude  Longitude  Time Zone  \\\n",
       "0  NSRDB       461980    -     -       -     22.53     -105.9          0   \n",
       "\n",
       "   Elevation  Local Time Zone  ... Cloud Type 11 Cloud Type 12 Fill Flag 0  \\\n",
       "0          0               -7  ...          Dust         Smoke         NaN   \n",
       "\n",
       "     Fill Flag 1     Fill Flag 2       Fill Flag 3               Fill Flag 4  \\\n",
       "0  Missing Image  Low Irradiance  Exceeds Clearsky  Missing CLoud Properties   \n",
       "\n",
       "          Fill Flag 5 Surface Albedo Units Version  \n",
       "0  Rayleigh Violation                  NaN   4.0.1  \n",
       "\n",
       "[1 rows x 46 columns]"
      ]
     },
     "execution_count": 32,
     "metadata": {},
     "output_type": "execute_result"
    }
   ],
   "source": [
    "meta"
   ]
  },
  {
   "cell_type": "code",
   "execution_count": 33,
   "metadata": {},
   "outputs": [],
   "source": [
    "data=pd.read_csv('NREL data/'+file_name,skiprows=[0,1])"
   ]
  },
  {
   "cell_type": "code",
   "execution_count": 37,
   "metadata": {},
   "outputs": [
    {
     "name": "stdout",
     "output_type": "stream",
     "text": [
      "Year int64 [2004]\n",
      "Month int64 [ 1  2  3  4  5  6  7  8  9 10]\n",
      "Day int64 [ 1  2  3  4  5  6  7  8  9 10]\n",
      "Hour int64 [0 1 2 3 4 5 6 7 8 9]\n",
      "Minute int64 [30]\n",
      "Temperature float64 [23.2 22.9 22.7 22.6 22.5 22.4 22.3 22.2 23.8 24.7]\n",
      "Clearsky DNI int64 [  0 358 629 757 821 859 865 852 775 670]\n",
      "Clearsky GHI int64 [  0 105 301 483 620 697 706 647 519 347]\n",
      "Clearsky DHI int64 [  0  50  82  98 106 105 104  97 100  86]\n",
      "DNI int64 [  0 129 443 401 387 232 159 102   2   7]\n",
      "DHI int64 [  0  16 175 184 225 271 312 293 292 134]\n",
      "GHI int64 [  0  16 220 409 476 538 474 396 348 135]\n",
      "Relative Humidity float64 [82.54 84.44 85.22 85.2  84.74 83.54 82.53 82.09 81.85 82.39]\n"
     ]
    }
   ],
   "source": [
    "for col in data.columns:\n",
    "    print(col,data[col].dtype,data[col].unique()[:10])"
   ]
  },
  {
   "cell_type": "code",
   "execution_count": null,
   "metadata": {},
   "outputs": [],
   "source": [
    "# Quitarle los minutos a la data\n",
    "data=data[['Year', 'Month', 'Day', 'Hour', 'Temperature', 'Clearsky DNI',\n",
    "       'Clearsky GHI', 'Clearsky DHI', 'DNI', 'DHI', 'GHI',\n",
    "       'Relative Humidity']]"
   ]
  },
  {
   "cell_type": "code",
   "execution_count": null,
   "metadata": {},
   "outputs": [
    {
     "name": "stderr",
     "output_type": "stream",
     "text": [
      "C:\\Users\\fgonzalez\\AppData\\Local\\Temp\\ipykernel_24352\\4232603360.py:4: SettingWithCopyWarning: \n",
      "A value is trying to be set on a copy of a slice from a DataFrame.\n",
      "Try using .loc[row_indexer,col_indexer] = value instead\n",
      "\n",
      "See the caveats in the documentation: https://pandas.pydata.org/pandas-docs/stable/user_guide/indexing.html#returning-a-view-versus-a-copy\n",
      "  data[col]=(data[col]-data[col].mean())/max(data[col].std(),1)\n"
     ]
    }
   ],
   "source": [
    "# normalize data \n",
    "for col in data.columns:\n",
    "    #Normalizacion (datos invariantes permanecen invariantes) (va a marcar 0)\n",
    "    data[col]=(data[col]-data[col].mean())/max(data[col].std(),1)\n",
    "    # print(col,data[col].std())"
   ]
  },
  {
   "cell_type": "code",
   "execution_count": 21,
   "metadata": {},
   "outputs": [
    {
     "data": {
      "text/plain": [
       "0.0"
      ]
     },
     "execution_count": 21,
     "metadata": {},
     "output_type": "execute_result"
    }
   ],
   "source": [
    "data['Year'].std()"
   ]
  },
  {
   "cell_type": "code",
   "execution_count": 28,
   "metadata": {},
   "outputs": [
    {
     "data": {
      "text/plain": [
       "0       0.0\n",
       "1       0.0\n",
       "2       0.0\n",
       "3       0.0\n",
       "4       0.0\n",
       "       ... \n",
       "8755    0.0\n",
       "8756    0.0\n",
       "8757    0.0\n",
       "8758    0.0\n",
       "8759    0.0\n",
       "Name: Year, Length: 8760, dtype: float64"
      ]
     },
     "execution_count": 28,
     "metadata": {},
     "output_type": "execute_result"
    }
   ],
   "source": [
    "data['Year']"
   ]
  },
  {
   "cell_type": "code",
   "execution_count": 29,
   "metadata": {},
   "outputs": [
    {
     "data": {
      "text/plain": [
       "8760"
      ]
     },
     "execution_count": 29,
     "metadata": {},
     "output_type": "execute_result"
    }
   ],
   "source": [
    "len(data)"
   ]
  },
  {
   "cell_type": "code",
   "execution_count": null,
   "metadata": {},
   "outputs": [],
   "source": []
  }
 ],
 "metadata": {
  "kernelspec": {
   "display_name": "Python 3",
   "language": "python",
   "name": "python3"
  },
  "language_info": {
   "codemirror_mode": {
    "name": "ipython",
    "version": 3
   },
   "file_extension": ".py",
   "mimetype": "text/x-python",
   "name": "python",
   "nbconvert_exporter": "python",
   "pygments_lexer": "ipython3",
   "version": "3.10.7"
  }
 },
 "nbformat": 4,
 "nbformat_minor": 2
}
